{
 "cells": [
  {
   "cell_type": "code",
   "execution_count": 1,
   "id": "c7355603",
   "metadata": {},
   "outputs": [
    {
     "name": "stdout",
     "output_type": "stream",
     "text": [
      "/home/cotsios/dsit/2nd-semester/im-anal-and-proc/Img_analysis_assignment_2\n"
     ]
    }
   ],
   "source": [
    "import sys\n",
    "import os\n",
    "\n",
    "\n",
    "sys.path.append(os.path.abspath(os.path.join(os.getcwd(), \"..\")))\n",
    "print(sys.path[-1])"
   ]
  },
  {
   "cell_type": "code",
   "execution_count": 2,
   "id": "d874680c",
   "metadata": {},
   "outputs": [
    {
     "name": "stdout",
     "output_type": "stream",
     "text": [
      "/home/cotsios/dsit/2nd-semester/im-anal-and-proc/Img_analysis_assignment_2\n",
      "/home/cotsios/dsit/2nd-semester/im-anal-and-proc/Img_analysis_assignment_2/split\n"
     ]
    }
   ],
   "source": [
    "BASE_DIR = os.path.dirname(os.getcwd())\n",
    "DATA_DIR  = os.path.join(BASE_DIR, 'split')\n",
    "\n",
    "print(BASE_DIR)\n",
    "print(DATA_DIR)"
   ]
  },
  {
   "cell_type": "code",
   "execution_count": 3,
   "id": "98692cbc",
   "metadata": {},
   "outputs": [],
   "source": [
    "from src.classical_ml import ClassicalML"
   ]
  },
  {
   "cell_type": "code",
   "execution_count": null,
   "id": "0230cd8c",
   "metadata": {},
   "outputs": [],
   "source": [
    "qda = ClassicalML(DATA_DIR, \"QDA\")"
   ]
  },
  {
   "cell_type": "code",
   "execution_count": null,
   "id": "9e8f1653",
   "metadata": {},
   "outputs": [],
   "source": []
  }
 ],
 "metadata": {
  "kernelspec": {
   "display_name": ".venv",
   "language": "python",
   "name": "python3"
  },
  "language_info": {
   "codemirror_mode": {
    "name": "ipython",
    "version": 3
   },
   "file_extension": ".py",
   "mimetype": "text/x-python",
   "name": "python",
   "nbconvert_exporter": "python",
   "pygments_lexer": "ipython3",
   "version": "3.12.3"
  }
 },
 "nbformat": 4,
 "nbformat_minor": 5
}
