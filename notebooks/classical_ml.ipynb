{
 "cells": [
  {
   "cell_type": "markdown",
   "id": "9cd9fac8",
   "metadata": {},
   "source": [
    "# Classical ML approach\n",
    "---\n",
    "---"
   ]
  },
  {
   "cell_type": "markdown",
   "id": "041a734c",
   "metadata": {},
   "source": [
    "Imports and Paths\n",
    "---"
   ]
  },
  {
   "cell_type": "code",
   "execution_count": 1,
   "id": "c7355603",
   "metadata": {},
   "outputs": [
    {
     "name": "stdout",
     "output_type": "stream",
     "text": [
      "/home/cotsios/dsit/2nd-semester/im-anal-and-proc/Img_analysis_assignment_2\n"
     ]
    }
   ],
   "source": [
    "import sys\n",
    "import os\n",
    "\n",
    "\n",
    "sys.path.append(os.path.abspath(os.path.join(os.getcwd(), \"..\")))\n",
    "print(sys.path[-1])"
   ]
  },
  {
   "cell_type": "code",
   "execution_count": 2,
   "id": "d874680c",
   "metadata": {},
   "outputs": [
    {
     "name": "stdout",
     "output_type": "stream",
     "text": [
      "/home/cotsios/dsit/2nd-semester/im-anal-and-proc/Img_analysis_assignment_2\n",
      "/home/cotsios/dsit/2nd-semester/im-anal-and-proc/Img_analysis_assignment_2/extracted_features\n",
      "/home/cotsios/dsit/2nd-semester/im-anal-and-proc/Img_analysis_assignment_2/models\n"
     ]
    }
   ],
   "source": [
    "BASE_DIR = os.path.dirname(os.getcwd())\n",
    "DATA_DIR  = os.path.join(BASE_DIR, 'extracted_features')\n",
    "MODELS_DIR = os.path.join(BASE_DIR, 'models')\n",
    "\n",
    "print(BASE_DIR)\n",
    "print(DATA_DIR)\n",
    "print(MODELS_DIR)"
   ]
  },
  {
   "cell_type": "code",
   "execution_count": null,
   "id": "98692cbc",
   "metadata": {},
   "outputs": [],
   "source": [
    "import pandas as pd\n",
    "from matplotlib import pyplot as plt\n",
    "from sklearn.metrics import (\n",
    "    matthews_corrcoef, f1_score, accuracy_score,\n",
    "    confusion_matrix, ConfusionMatrixDisplay\n",
    ")\n",
    "\n",
    "from src.classical_ml import MySVC"
   ]
  },
  {
   "cell_type": "markdown",
   "id": "0c60b410",
   "metadata": {},
   "source": [
    "## Model training an SVM\n",
    "---"
   ]
  },
  {
   "cell_type": "markdown",
   "id": "2b6c6703",
   "metadata": {},
   "source": [
    "I chose to work with an __SVM__ classifier, as I have seen from the previous step ([feature_extraction.ipyn](feature_extraction.ipynb)) that the features extracted are complex and likely not linearly separable, making SVM a suitable choice due to its ability to handle high-dimensional spaces and use kernel functions for effective classification.\n",
    "\n",
    "I created a class named `MySVC` which uses `mRMR` to find the top $10$ features and `optuna` to tune the hyperparameter space. The hyperparameters tuned are:\n",
    "- `C`: Regularization parameter. The strength of the regularization is inversely proportional to C. Search space: from $1e-5$ to $1e5$.\n",
    "- `kernel`: Specifies the kernel type to be used in the algorithm. Search space: __rbf__ and __sigmoid__.\n",
    "- `gamma`: Kernel coefficient for 'rbf', 'poly' and 'sigmoid'. Search space: __scale__ and __auto__.\n",
    "\n",
    "After finding the best hyperparameters, an `SVC` is trained on all the training data to produce the final model and saves it in the specified directory. Finally, that model is tested against the holdout set."
   ]
  },
  {
   "cell_type": "code",
   "execution_count": 4,
   "id": "9259d898",
   "metadata": {},
   "outputs": [],
   "source": [
    "df = pd.read_csv(os.path.join(DATA_DIR, \"features.csv\"))\n",
    "\n",
    "test_dataframe = df.sample(frac=0.2, random_state=42)\n",
    "train_dataframe = df.drop(test_dataframe.index)"
   ]
  },
  {
   "cell_type": "code",
   "execution_count": 5,
   "id": "f567f252",
   "metadata": {},
   "outputs": [
    {
     "name": "stderr",
     "output_type": "stream",
     "text": [
      "[I 2025-06-18 19:13:24,109] A new study created in memory with name: no-name-80e3d8c6-0405-4c5f-b101-d454b19bb325\n"
     ]
    },
    {
     "name": "stdout",
     "output_type": "stream",
     "text": [
      "Starting Optuna optimization...\n"
     ]
    },
    {
     "data": {
      "application/vnd.jupyter.widget-view+json": {
       "model_id": "6c56ace44f1f4a15b0c017460a788c0e",
       "version_major": 2,
       "version_minor": 0
      },
      "text/plain": [
       "  0%|          | 0/50 [00:00<?, ?it/s]"
      ]
     },
     "metadata": {},
     "output_type": "display_data"
    },
    {
     "name": "stdout",
     "output_type": "stream",
     "text": [
      "\n",
      "Best trial finished with MCC: 0.6701994435205122\n",
      "Best hyperparameters:\n",
      "  C: 74417.24967520677\n",
      "  kernel: rbf\n",
      "  gamma: scale\n",
      "Performing final feature selection on full training set...\n",
      "Selected 10 features: ['n_edges', 'vertical_lines', 'hist_std_151_200', 'horizontal_lines', 'fft_mean', 'hist_std_0_50', 'hist_means_151_200', 'hist_std_101_150', 'std', 'hu_moment_4']\n",
      "Best model trained successfully.\n",
      "Best model and metadata saved to: /home/cotsios/dsit/2nd-semester/im-anal-and-proc/Img_analysis_assignment_2/models/SVC_best_model.joblib\n",
      "\n",
      "Best SVC Model: SVC(C=74417.24967520677, random_state=42)\n"
     ]
    },
    {
     "data": {
      "image/png": "[encoded data removed]",
      "text/plain": [
       "<Figure size 640x480 with 2 Axes>"
      ]
     },
     "metadata": {},
     "output_type": "display_data"
    }
   ],
   "source": [
    "svc_optimizer = MySVC(\n",
    "    model_dir=MODELS_DIR,\n",
    "    data=train_dataframe, \n",
    "    target=\"label\", \n",
    "    optuna_trials=50,\n",
    "    cv_folds=5,\n",
    "    max_features=10\n",
    ")\n",
    "\n",
    "svc_optimizer.find_best_hyperparameters()\n",
    "\n",
    "best_svc_model = svc_optimizer.get_best_model()\n",
    "print(\"\\nBest SVC Model:\", best_svc_model)\n",
    "\n",
    "X_test = test_dataframe.drop(columns=svc_optimizer.target)\n",
    "y_test = test_dataframe[svc_optimizer.target]\n",
    "\n",
    "X_test_selected = X_test[svc_optimizer.selected_features]\n",
    "\n",
    "y_pred_test = best_svc_model.predict(X_test_selected)\n",
    "\n",
    "cm = confusion_matrix(y_test, y_pred_test)\n",
    "disp = ConfusionMatrixDisplay(confusion_matrix=cm)\n",
    "disp.plot(cmap='Blues')\n",
    "disp.ax_.set_title(\"Confusion Matrix for SVC Model\")\n",
    "disp.ax_.set_xlabel(\"Predicted Label\")\n",
    "disp.ax_.set_ylabel(\"True Label\")\n",
    "plt.show()"
   ]
  },
  {
   "cell_type": "code",
   "execution_count": 7,
   "id": "c95a40c2",
   "metadata": {},
   "outputs": [
    {
     "name": "stdout",
     "output_type": "stream",
     "text": [
      "MCC: 0.6974622459081249\n",
      "f1 Score: 0.847679632521129\n",
      "Accuracy: 0.8478642480983031\n"
     ]
    }
   ],
   "source": [
    "print(\n",
    "    \"MCC: \"\n",
    "    f\"{matthews_corrcoef(y_test, y_pred_test)}\"\n",
    ")\n",
    "print(\n",
    "    \"f1 Score: \"\n",
    "    f\"{f1_score(y_test, y_pred_test, average='weighted')}\"\n",
    ")\n",
    "print(\n",
    "    \"Accuracy: \"\n",
    "    f\"{accuracy_score(y_test, y_pred_test)}\"\n",
    ")"
   ]
  },
  {
   "cell_type": "markdown",
   "id": "59dcba31",
   "metadata": {},
   "source": [
    "## Conclusion\n",
    "---"
   ]
  },
  {
   "cell_type": "markdown",
   "id": "e373e5c0",
   "metadata": {},
   "source": [
    "Using mRMR the selected features are:\n",
    "\n",
    "- `n_edges`\n",
    "- `vertical_lines`\n",
    "- `hist_std_151_200`\n",
    "- `horizontal_lines`\n",
    "- `fft_mean`\n",
    "- `hist_std_0_50`\n",
    "- `hist_means_151_200`\n",
    "- `hist_std_101_150`\n",
    "- `std` \n",
    "- `hu_moment_4`\n",
    "\n",
    "The optimal hyperparameters for the model are:\n",
    "- `C` = $74417.25$\n",
    "- `kernel` = __rbf__\n",
    "- `gamma` = __scale__\n",
    "\n",
    "On the unseen data, the model performed exceptionally well, especially considering that it only used features extracted from the images, and not the images themselves."
   ]
  }
 ],
 "metadata": {
  "kernelspec": {
   "display_name": ".venv",
   "language": "python",
   "name": "python3"
  },
  "language_info": {
   "codemirror_mode": {
    "name": "ipython",
    "version": 3
   },
   "file_extension": ".py",
   "mimetype": "text/x-python",
   "name": "python",
   "nbconvert_exporter": "python",
   "pygments_lexer": "ipython3",
   "version": "3.12.3"
  }
 },
 "nbformat": 4,
 "nbformat_minor": 5
}
