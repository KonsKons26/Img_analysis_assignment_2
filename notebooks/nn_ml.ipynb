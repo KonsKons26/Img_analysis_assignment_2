{
 "cells": [
  {
   "cell_type": "markdown",
   "id": "5bfbc862",
   "metadata": {},
   "source": [
    "# Deep learning approach\n",
    "---\n",
    "---"
   ]
  },
  {
   "cell_type": "markdown",
   "id": "07152e81",
   "metadata": {},
   "source": [
    "## Imports and Paths\n",
    "---"
   ]
  },
  {
   "cell_type": "code",
   "execution_count": 1,
   "id": "cd48021c",
   "metadata": {},
   "outputs": [
    {
     "name": "stdout",
     "output_type": "stream",
     "text": [
      "/home/cotsios/dsit/2nd-semester/im-anal-and-proc/Img_analysis_assignment_2\n"
     ]
    }
   ],
   "source": [
    "import sys\n",
    "import os\n",
    "\n",
    "\n",
    "sys.path.append(os.path.abspath(os.path.join(os.getcwd(), \"..\")))\n",
    "print(sys.path[-1])"
   ]
  },
  {
   "cell_type": "code",
   "execution_count": 2,
   "id": "0d4224a1",
   "metadata": {},
   "outputs": [
    {
     "name": "stdout",
     "output_type": "stream",
     "text": [
      "/home/cotsios/dsit/2nd-semester/im-anal-and-proc/Img_analysis_assignment_2\n",
      "/home/cotsios/dsit/2nd-semester/im-anal-and-proc/Img_analysis_assignment_2/preprocessed\n"
     ]
    }
   ],
   "source": [
    "BASE_DIR = os.path.dirname(os.getcwd())\n",
    "DATA_DIR  = os.path.join(BASE_DIR, \"preprocessed\")\n",
    "MODELS_DIR = os.path.join(BASE_DIR, \"models\")\n",
    "\n",
    "print(BASE_DIR)\n",
    "print(DATA_DIR)"
   ]
  },
  {
   "cell_type": "code",
   "execution_count": 3,
   "id": "bba725c4",
   "metadata": {},
   "outputs": [],
   "source": [
    "from src.utils import read_image\n",
    "from src.nn_ml import ResNetFineTuner"
   ]
  },
  {
   "cell_type": "markdown",
   "id": "643203f4",
   "metadata": {},
   "source": [
    "## Model training with ResNet50\n",
    "---"
   ]
  },
  {
   "cell_type": "markdown",
   "id": "3c05e35d",
   "metadata": {},
   "source": [
    "The class `ResNetFineTuner` is able to take different ResNet model and use them to classify x-ray images. It uses a class named `XRayImageDataset` which inherits from `torch.utils.data.Dataset` to load the iamges.\n",
    "\n",
    "`ResNetFineTuner` freezes the weights of all layers of the model and replaces the final classification layer. It also replicates the channels of the images to make them compatible with the 3-channel format the model expects. During training, the model with the highest Matthews Correlation Coefficient is stored at the specified directory, as the best model. Finally, the best model, is tested against a hold-out set to procide the final metrics. The best model is stored in `models/`.\n",
    "\n",
    "\n",
    "Here im using `ResNet50`, which is a deep convolutional neural network (CNN) with 50 layers, known for its ability to address the vanishing gradient problem in deep neural networks through the use of residual blocks and skip connections."
   ]
  },
  {
   "cell_type": "code",
   "execution_count": 4,
   "id": "e70708da",
   "metadata": {},
   "outputs": [],
   "source": [
    "RESNET_MODEL = \"resnet50\"\n",
    "BATCH_SIZE = 32\n",
    "LEARNING_RATE = 0.001\n",
    "NUM_EPOCHS = 10"
   ]
  },
  {
   "cell_type": "code",
   "execution_count": 5,
   "id": "dd6dfe18",
   "metadata": {},
   "outputs": [
    {
     "name": "stdout",
     "output_type": "stream",
     "text": [
      "Using device: cuda:0\n",
      "Loading pre-trained resnet50 model...\n",
      "Preparing data loaders...\n",
      "Found 8546 total images.\n",
      "Splitting data into: 6838 Train, 854 Validation, 854 Test samples.\n",
      "\n",
      "--- Epoch 1/10 ---\n"
     ]
    },
    {
     "name": "stderr",
     "output_type": "stream",
     "text": [
      "Training: 100%|██████████| 214/214 [00:33<00:00,  6.44it/s]\n"
     ]
    },
    {
     "name": "stdout",
     "output_type": "stream",
     "text": [
      "Train Loss: 0.2908 Acc: 0.8792\n"
     ]
    },
    {
     "name": "stderr",
     "output_type": "stream",
     "text": [
      "Validation: 100%|██████████| 27/27 [00:04<00:00,  6.55it/s]\n"
     ]
    },
    {
     "name": "stdout",
     "output_type": "stream",
     "text": [
      "Validation Loss: 0.2099\n",
      "Validation Metrics:\n",
      "  Accuracy: 0.9204\n",
      "  MCC: 0.8417\n",
      "  F1-Score: 0.9246\n",
      "  AUC: 0.9758\n",
      "New best model saved with MCC: 0.8417\n",
      "\n",
      "--- Epoch 2/10 ---\n"
     ]
    },
    {
     "name": "stderr",
     "output_type": "stream",
     "text": [
      "Training: 100%|██████████| 214/214 [00:33<00:00,  6.41it/s]\n"
     ]
    },
    {
     "name": "stdout",
     "output_type": "stream",
     "text": [
      "Train Loss: 0.2385 Acc: 0.9006\n"
     ]
    },
    {
     "name": "stderr",
     "output_type": "stream",
     "text": [
      "Validation: 100%|██████████| 27/27 [00:04<00:00,  6.66it/s]\n"
     ]
    },
    {
     "name": "stdout",
     "output_type": "stream",
     "text": [
      "Validation Loss: 0.1807\n",
      "Validation Metrics:\n",
      "  Accuracy: 0.9297\n",
      "  MCC: 0.8603\n",
      "  F1-Score: 0.9302\n",
      "  AUC: 0.9810\n",
      "New best model saved with MCC: 0.8603\n",
      "\n",
      "--- Epoch 3/10 ---\n"
     ]
    },
    {
     "name": "stderr",
     "output_type": "stream",
     "text": [
      "Training: 100%|██████████| 214/214 [00:31<00:00,  6.77it/s]\n"
     ]
    },
    {
     "name": "stdout",
     "output_type": "stream",
     "text": [
      "Train Loss: 0.2084 Acc: 0.9163\n"
     ]
    },
    {
     "name": "stderr",
     "output_type": "stream",
     "text": [
      "Validation: 100%|██████████| 27/27 [00:03<00:00,  8.59it/s]\n"
     ]
    },
    {
     "name": "stdout",
     "output_type": "stream",
     "text": [
      "Validation Loss: 0.1710\n",
      "Validation Metrics:\n",
      "  Accuracy: 0.9403\n",
      "  MCC: 0.8817\n",
      "  F1-Score: 0.9405\n",
      "  AUC: 0.9825\n",
      "New best model saved with MCC: 0.8817\n",
      "\n",
      "--- Epoch 4/10 ---\n"
     ]
    },
    {
     "name": "stderr",
     "output_type": "stream",
     "text": [
      "Training: 100%|██████████| 214/214 [00:27<00:00,  7.91it/s]\n"
     ]
    },
    {
     "name": "stdout",
     "output_type": "stream",
     "text": [
      "Train Loss: 0.1960 Acc: 0.9193\n"
     ]
    },
    {
     "name": "stderr",
     "output_type": "stream",
     "text": [
      "Validation: 100%|██████████| 27/27 [00:03<00:00,  8.10it/s]\n"
     ]
    },
    {
     "name": "stdout",
     "output_type": "stream",
     "text": [
      "Validation Loss: 0.2048\n",
      "Validation Metrics:\n",
      "  Accuracy: 0.9087\n",
      "  MCC: 0.8214\n",
      "  F1-Score: 0.9156\n",
      "  AUC: 0.9832\n",
      "\n",
      "--- Epoch 5/10 ---\n"
     ]
    },
    {
     "name": "stderr",
     "output_type": "stream",
     "text": [
      "Training: 100%|██████████| 214/214 [00:27<00:00,  7.74it/s]\n"
     ]
    },
    {
     "name": "stdout",
     "output_type": "stream",
     "text": [
      "Train Loss: 0.2042 Acc: 0.9165\n"
     ]
    },
    {
     "name": "stderr",
     "output_type": "stream",
     "text": [
      "Validation: 100%|██████████| 27/27 [00:03<00:00,  8.04it/s]\n"
     ]
    },
    {
     "name": "stdout",
     "output_type": "stream",
     "text": [
      "Validation Loss: 0.1671\n",
      "Validation Metrics:\n",
      "  Accuracy: 0.9379\n",
      "  MCC: 0.8775\n",
      "  F1-Score: 0.9379\n",
      "  AUC: 0.9840\n",
      "\n",
      "--- Epoch 6/10 ---\n"
     ]
    },
    {
     "name": "stderr",
     "output_type": "stream",
     "text": [
      "Training: 100%|██████████| 214/214 [00:27<00:00,  7.71it/s]\n"
     ]
    },
    {
     "name": "stdout",
     "output_type": "stream",
     "text": [
      "Train Loss: 0.1929 Acc: 0.9259\n"
     ]
    },
    {
     "name": "stderr",
     "output_type": "stream",
     "text": [
      "Validation: 100%|██████████| 27/27 [00:03<00:00,  8.00it/s]\n"
     ]
    },
    {
     "name": "stdout",
     "output_type": "stream",
     "text": [
      "Validation Loss: 0.2122\n",
      "Validation Metrics:\n",
      "  Accuracy: 0.9052\n",
      "  MCC: 0.8154\n",
      "  F1-Score: 0.9128\n",
      "  AUC: 0.9839\n",
      "\n",
      "--- Epoch 7/10 ---\n"
     ]
    },
    {
     "name": "stderr",
     "output_type": "stream",
     "text": [
      "Training: 100%|██████████| 214/214 [00:27<00:00,  7.71it/s]\n"
     ]
    },
    {
     "name": "stdout",
     "output_type": "stream",
     "text": [
      "Train Loss: 0.1760 Acc: 0.9316\n"
     ]
    },
    {
     "name": "stderr",
     "output_type": "stream",
     "text": [
      "Validation: 100%|██████████| 27/27 [00:03<00:00,  7.96it/s]\n"
     ]
    },
    {
     "name": "stdout",
     "output_type": "stream",
     "text": [
      "Validation Loss: 0.1711\n",
      "Validation Metrics:\n",
      "  Accuracy: 0.9309\n",
      "  MCC: 0.8628\n",
      "  F1-Score: 0.9345\n",
      "  AUC: 0.9842\n",
      "\n",
      "--- Epoch 8/10 ---\n"
     ]
    },
    {
     "name": "stderr",
     "output_type": "stream",
     "text": [
      "Training: 100%|██████████| 214/214 [00:28<00:00,  7.62it/s]\n"
     ]
    },
    {
     "name": "stdout",
     "output_type": "stream",
     "text": [
      "Train Loss: 0.1912 Acc: 0.9253\n"
     ]
    },
    {
     "name": "stderr",
     "output_type": "stream",
     "text": [
      "Validation: 100%|██████████| 27/27 [00:03<00:00,  7.83it/s]\n"
     ]
    },
    {
     "name": "stdout",
     "output_type": "stream",
     "text": [
      "Validation Loss: 0.1658\n",
      "Validation Metrics:\n",
      "  Accuracy: 0.9368\n",
      "  MCC: 0.8753\n",
      "  F1-Score: 0.9366\n",
      "  AUC: 0.9840\n",
      "\n",
      "--- Epoch 9/10 ---\n"
     ]
    },
    {
     "name": "stderr",
     "output_type": "stream",
     "text": [
      "Training: 100%|██████████| 214/214 [00:28<00:00,  7.42it/s]\n"
     ]
    },
    {
     "name": "stdout",
     "output_type": "stream",
     "text": [
      "Train Loss: 0.1824 Acc: 0.9276\n"
     ]
    },
    {
     "name": "stderr",
     "output_type": "stream",
     "text": [
      "Validation: 100%|██████████| 27/27 [00:03<00:00,  7.68it/s]\n"
     ]
    },
    {
     "name": "stdout",
     "output_type": "stream",
     "text": [
      "Validation Loss: 0.2266\n",
      "Validation Metrics:\n",
      "  Accuracy: 0.9040\n",
      "  MCC: 0.8147\n",
      "  F1-Score: 0.9124\n",
      "  AUC: 0.9840\n",
      "\n",
      "--- Epoch 10/10 ---\n"
     ]
    },
    {
     "name": "stderr",
     "output_type": "stream",
     "text": [
      "Training: 100%|██████████| 214/214 [00:29<00:00,  7.33it/s]\n"
     ]
    },
    {
     "name": "stdout",
     "output_type": "stream",
     "text": [
      "Train Loss: 0.1767 Acc: 0.9292\n"
     ]
    },
    {
     "name": "stderr",
     "output_type": "stream",
     "text": [
      "Validation: 100%|██████████| 27/27 [00:03<00:00,  7.58it/s]\n"
     ]
    },
    {
     "name": "stdout",
     "output_type": "stream",
     "text": [
      "Validation Loss: 0.1598\n",
      "Validation Metrics:\n",
      "  Accuracy: 0.9415\n",
      "  MCC: 0.8833\n",
      "  F1-Score: 0.9423\n",
      "  AUC: 0.9839\n",
      "New best model saved with MCC: 0.8833\n",
      "\n",
      "Training finished.\n",
      "\n",
      "--- Testing on Unseen Data ---\n"
     ]
    },
    {
     "name": "stderr",
     "output_type": "stream",
     "text": [
      "Testing: 100%|██████████| 27/27 [00:03<00:00,  7.53it/s]\n"
     ]
    },
    {
     "name": "stdout",
     "output_type": "stream",
     "text": [
      "\n",
      "==================================================\n",
      "FINAL PERFORMANCE ON TEST SET\n",
      "==================================================\n",
      "Test Loss: 0.1711\n",
      "\n",
      "Classification Metrics:\n",
      "  Accuracy:    0.9344\n",
      "  MCC:         0.8696\n",
      "  F1-Score:    0.9332\n",
      "  ROC-AUC:     0.9822\n",
      "  Sensitivity: 0.9136\n",
      "  Specificity: 0.9554\n"
     ]
    },
    {
     "data": {
      "image/png": "[encoded data removed]",
      "text/plain": [
       "<Figure size 640x480 with 2 Axes>"
      ]
     },
     "metadata": {},
     "output_type": "display_data"
    },
    {
     "name": "stdout",
     "output_type": "stream",
     "text": [
      "\n",
      "Detailed Results:\n",
      "  Total Test Samples: 854\n",
      "  Correct Predictions: 798\n",
      "  Incorrect Predictions: 56\n",
      "==================================================\n"
     ]
    }
   ],
   "source": [
    "trainer = ResNetFineTuner(\n",
    "    data_dir=DATA_DIR,\n",
    "    model_dir=MODELS_DIR,\n",
    "    read_image_func=read_image,\n",
    "    resnet_version=RESNET_MODEL,\n",
    "    batch_size=BATCH_SIZE,\n",
    "    learning_rate=LEARNING_RATE,\n",
    "    num_epochs=NUM_EPOCHS\n",
    ")\n",
    "\n",
    "trainer.train()\n",
    "\n",
    "trainer.test_best_model()"
   ]
  },
  {
   "cell_type": "markdown",
   "id": "df422db7",
   "metadata": {},
   "source": [
    "## Conclusion\n",
    "---"
   ]
  },
  {
   "cell_type": "markdown",
   "id": "04c41d54",
   "metadata": {},
   "source": [
    "The final model is an extremely strong classifier with Classification Metrics:\n",
    "\n",
    "|  Metric       | Score    |\n",
    "|---------------|----------|\n",
    "|  Accuracy     |  0.9344  |\n",
    "|  MCC          |  0.8696  |\n",
    "|  F1-Score     |  0.9332  |\n",
    "|  ROC-AUC      |  0.9822  |\n",
    "|  Sensitivity  |  0.9136  |\n",
    "|  Specificity  |  0.9554  |"
   ]
  }
 ],
 "metadata": {
  "kernelspec": {
   "display_name": ".venv",
   "language": "python",
   "name": "python3"
  },
  "language_info": {
   "codemirror_mode": {
    "name": "ipython",
    "version": 3
   },
   "file_extension": ".py",
   "mimetype": "text/x-python",
   "name": "python",
   "nbconvert_exporter": "python",
   "pygments_lexer": "ipython3",
   "version": "3.12.3"
  }
 },
 "nbformat": 4,
 "nbformat_minor": 5
}
