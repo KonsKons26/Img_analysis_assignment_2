{
 "cells": [
  {
   "cell_type": "code",
   "execution_count": null,
   "id": "c7376885",
   "metadata": {},
   "outputs": [],
   "source": [
    "import pandas as pd\n",
    "\n",
    "from src.classical_ml import MySVC"
   ]
  },
  {
   "cell_type": "code",
   "execution_count": null,
   "id": "9e68272e",
   "metadata": {},
   "outputs": [],
   "source": [
    "df = pd.read_csv(\"/home/cotsios/dsit/2nd-semester/im-anal-and-proc/Img_analysis_assignment_2/extracted_features/features.csv\")"
   ]
  },
  {
   "cell_type": "code",
   "execution_count": null,
   "id": "8aaa421f",
   "metadata": {},
   "outputs": [],
   "source": [
    "test_dataframe = df.sample(frac=0.2, random_state=42)\n",
    "train_dataframe = df.drop(test_dataframe.index)"
   ]
  },
  {
   "cell_type": "code",
   "execution_count": null,
   "id": "bfc86a99",
   "metadata": {},
   "outputs": [],
   "source": [
    "svc_optimizer = MySVC(\n",
    "    data=train_dataframe, \n",
    "    target=\"label\", \n",
    "    optuna_trials=50, # Reduced for faster example\n",
    "    cv_folds=5,    # Reduced for faster example\n",
    "    max_features=10 # Reduced for faster example\n",
    ")\n",
    "\n",
    "svc_optimizer.find_best_hyperparameters()\n",
    "\n",
    "# Get the best trained model\n",
    "best_svc_model = svc_optimizer.get_best_model()\n",
    "print(\"\\nBest SVC Model:\", best_svc_model)\n",
    "\n",
    "X_test = test_dataframe.drop(columns=svc_optimizer.target)\n",
    "y_test = test_dataframe[svc_optimizer.target]\n",
    "\n",
    "X_test_selected = X_test[svc_optimizer.selected_features]\n",
    "\n",
    "from sklearn.metrics import matthews_corrcoef, classification_report\n",
    "\n",
    "y_pred_test = best_svc_model.predict(X_test_selected)\n",
    "mcc_test = matthews_corrcoef(y_test, y_pred_test)\n",
    "\n",
    "print(f\"\\nMatthews Correlation Coefficient (MCC) on the UNSEEN TEST SET: {mcc_test:.4f}\")\n",
    "print(\"\\nClassification Report on the UNSEEN TEST SET:\")\n",
    "print(classification_report(y_test, y_pred_test))"
   ]
  },
  {
   "cell_type": "code",
   "execution_count": null,
   "id": "394b9739",
   "metadata": {},
   "outputs": [],
   "source": []
  }
 ],
 "metadata": {
  "kernelspec": {
   "display_name": ".venv",
   "language": "python",
   "name": "python3"
  },
  "language_info": {
   "codemirror_mode": {
    "name": "ipython",
    "version": 3
   },
   "file_extension": ".py",
   "mimetype": "text/x-python",
   "name": "python",
   "nbconvert_exporter": "python",
   "pygments_lexer": "ipython3",
   "version": "3.12.3"
  }
 },
 "nbformat": 4,
 "nbformat_minor": 5
}
